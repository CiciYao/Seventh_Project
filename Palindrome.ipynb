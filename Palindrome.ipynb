{
 "cells": [
  {
   "cell_type": "code",
   "execution_count": 1,
   "metadata": {},
   "outputs": [
    {
     "name": "stdout",
     "output_type": "stream",
     "text": [
      "\n",
      "Task C: palindromesEach OK is worth five points.\n",
      " OK  Got:  True Expected:  True\n",
      " OK  Got:  False Expected:  False\n",
      " OK  Got:  True Expected:  True\n",
      "You final score is:  10\n"
     ]
    }
   ],
   "source": [
    "import math\n",
    "# Problem 2. Palindromes\n",
    "#\n",
    "# Given a string, determine if the string is a palindrome.\n",
    "#\n",
    "# Examples:\n",
    "#     palidrome('anna')  returns 'True'\n",
    "#     palidrome('abcdef')  returns 'False'\n",
    "#     palidrome('')  returns 'True'\n",
    "\n",
    "def palindrome(word):\n",
    " ### Your code goes here\n",
    "     mylist = list(word)\n",
    "     mylist.reverse()\n",
    "     reverse = \"\".join(mylist)\n",
    "     if reverse == word:\n",
    "         return True\n",
    "     else:\n",
    "         return False\n",
    "\n",
    "\n",
    "  # return '' ### Replace with your code\n",
    "\n",
    "\n",
    "def test(got, expected):\n",
    "  score = 0;\n",
    "  if got == expected:\n",
    "    score = 3.33;\n",
    "    print(\" OK \",end=\" \")\n",
    "  else:\n",
    "    print (\" XX \", end=\" \")\n",
    "  print(\"Got: \",got, \"Expected: \",expected)\n",
    "  return score\n",
    "\n",
    "def main():\n",
    "  total = 0;\n",
    "  print()\n",
    "  print ('Task C: palindromes' \"\"\"Each OK is worth five points.\"\"\")\n",
    "\n",
    " #  \"\"\" If this is what you get, you are good to go. Each OK is worth five points.\n",
    " # OK  Got:  True Expected:  True\n",
    " # OK  Got:  False Expected:  False\n",
    " # OK  Got:  True Expected:  True\n",
    " #  \"\"\"\n",
    "  total += test(palindrome('anna'), True)\n",
    "  total += test(palindrome('bookkeeper'), False)\n",
    "  total += test(palindrome('a'), True)\n",
    "\n",
    "  print(\"You final score is: \", math.ceil(total))\n",
    "\n",
    "if __name__ == '__main__':\n",
    "  main()\n"
   ]
  },
  {
   "cell_type": "code",
   "execution_count": null,
   "metadata": {},
   "outputs": [],
   "source": []
  },
  {
   "cell_type": "code",
   "execution_count": null,
   "metadata": {},
   "outputs": [],
   "source": []
  }
 ],
 "metadata": {
  "kernelspec": {
   "display_name": "Python 3",
   "language": "python",
   "name": "python3"
  },
  "language_info": {
   "codemirror_mode": {
    "name": "ipython",
    "version": 3
   },
   "file_extension": ".py",
   "mimetype": "text/x-python",
   "name": "python",
   "nbconvert_exporter": "python",
   "pygments_lexer": "ipython3",
   "version": "3.5.1"
  }
 },
 "nbformat": 4,
 "nbformat_minor": 2
}
